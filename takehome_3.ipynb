{
 "cells": [
  {
   "cell_type": "code",
   "execution_count": 0,
   "metadata": {
    "application/vnd.databricks.v1+cell": {
     "cellMetadata": {
      "byteLimit": 2048000,
      "rowLimit": 10000
     },
     "inputWidgets": {},
     "nuid": "3ec6451c-dcb5-4559-ad14-2e0e08166351",
     "showTitle": false,
     "tableResultSettingsMap": {},
     "title": ""
    }
   },
   "outputs": [],
   "source": [
    "pip install mlflow"
   ]
  },
  {
   "cell_type": "code",
   "execution_count": 0,
   "metadata": {
    "application/vnd.databricks.v1+cell": {
     "cellMetadata": {
      "byteLimit": 2048000,
      "rowLimit": 10000
     },
     "inputWidgets": {},
     "nuid": "46d63ee8-7bce-4cd2-924e-006979b7d066",
     "showTitle": false,
     "tableResultSettingsMap": {},
     "title": ""
    }
   },
   "outputs": [],
   "source": [
    "# import relevant functions\n",
    "from pyspark.sql import functions as F\n",
    "from pyspark.sql.functions import avg\n",
    "from pyspark.sql.functions import col\n",
    "from pyspark.sql.types import IntegerType\n",
    "from sklearn.model_selection import train_test_split"
   ]
  },
  {
   "cell_type": "code",
   "execution_count": 0,
   "metadata": {
    "application/vnd.databricks.v1+cell": {
     "cellMetadata": {
      "byteLimit": 2048000,
      "rowLimit": 10000
     },
     "inputWidgets": {},
     "nuid": "1e0e6cba-d0d4-44fa-be12-ad8897969da4",
     "showTitle": false,
     "tableResultSettingsMap": {},
     "title": ""
    }
   },
   "outputs": [],
   "source": [
    "# import data\n",
    "circuits = spark.read.csv('s3://columbia-gr5069-main/raw/circuits.csv', header=True) \n",
    "constructor_results = spark.read.csv('s3://columbia-gr5069-main/raw/constructor_results.csv', header=True) \n",
    "constructor_standings = spark.read.csv('s3://columbia-gr5069-main/raw/constructor_standings.csv', header=True) \n",
    "constructors = spark.read.csv('s3://columbia-gr5069-main/raw/constructors.csv', header=True) \n",
    "driver_standings = spark.read.csv('s3://columbia-gr5069-main/raw/driver_standings.csv', header=True) \n",
    "drivers = spark.read.csv('s3://columbia-gr5069-main/raw/drivers.csv', header=True) \n",
    "lap_times = spark.read.csv('s3://columbia-gr5069-main/raw/lap_times.csv', header=True) \n",
    "pit_stops = spark.read.csv('s3://columbia-gr5069-main/raw/pit_stops.csv', header=True) \n",
    "qualifying = spark.read.csv('s3://columbia-gr5069-main/raw/qualifying.csv', header=True) \n",
    "races = spark.read.csv('s3://columbia-gr5069-main/raw/races.csv', header=True) \n",
    "results = spark.read.csv('s3://columbia-gr5069-main/raw/results.csv', header=True) \n",
    "seasons = spark.read.csv('s3://columbia-gr5069-main/raw/seasons.csv', header=True) \n",
    "sprint_results = spark.read.csv('s3://columbia-gr5069-main/raw/sprint_results.csv', header=True) \n",
    "status = spark.read.csv('s3://columbia-gr5069-main/raw/status.csv', header=True) \n",
    "winequality = spark.read.csv('s3://columbia-gr5069-main/raw/winequality-red_main.csv', header=True) "
   ]
  },
  {
   "cell_type": "code",
   "execution_count": 0,
   "metadata": {
    "application/vnd.databricks.v1+cell": {
     "cellMetadata": {
      "byteLimit": 2048000,
      "rowLimit": 10000
     },
     "inputWidgets": {},
     "nuid": "c094f65e-89e9-488f-af30-5b5d572a6580",
     "showTitle": false,
     "tableResultSettingsMap": {},
     "title": ""
    }
   },
   "outputs": [],
   "source": [
    "display(results)"
   ]
  },
  {
   "cell_type": "code",
   "execution_count": 0,
   "metadata": {
    "application/vnd.databricks.v1+cell": {
     "cellMetadata": {
      "byteLimit": 2048000,
      "rowLimit": 10000
     },
     "inputWidgets": {},
     "nuid": "3144c269-bf65-41f0-983d-0e2f35fe9a7d",
     "showTitle": false,
     "tableResultSettingsMap": {},
     "title": ""
    }
   },
   "outputs": [],
   "source": [
    "display(drivers)"
   ]
  },
  {
   "cell_type": "code",
   "execution_count": 0,
   "metadata": {
    "application/vnd.databricks.v1+cell": {
     "cellMetadata": {
      "byteLimit": 2048000,
      "rowLimit": 10000
     },
     "inputWidgets": {},
     "nuid": "822b87bd-b764-470a-92f2-686fa8a5d1ca",
     "showTitle": false,
     "tableResultSettingsMap": {},
     "title": ""
    }
   },
   "outputs": [],
   "source": [
    "display(races)"
   ]
  },
  {
   "cell_type": "code",
   "execution_count": 0,
   "metadata": {
    "application/vnd.databricks.v1+cell": {
     "cellMetadata": {
      "byteLimit": 2048000,
      "rowLimit": 10000
     },
     "inputWidgets": {},
     "nuid": "ee0ad5e6-267d-4a49-9d02-017dbc04e321",
     "showTitle": false,
     "tableResultSettingsMap": {},
     "title": ""
    }
   },
   "outputs": [],
   "source": [
    "# combine results, races, and drivers to get necessary columns in one dataframe\n",
    "drivers_results = results.join(races.select(\"raceId\", \"date\"), on=\"raceId\").join(drivers.select(\"driverId\", \"dob\", \"nationality\"), on=\"driverId\")\n",
    "\n",
    "# take difference between date of race and date of driver's birth and divide by 365 to get years\n",
    "drivers_results = drivers_results.withColumn(\"Age\", F.datediff(drivers_results.date, drivers_results.dob)/365)\n",
    "\n",
    "# turn age value into integer to get whole number for age of driver in years\n",
    "drivers_results = drivers_results.withColumn(\"Age\", drivers_results[\"Age\"].cast(IntegerType()))\n",
    "\n",
    "# select only relevant columns and display final dataframe\n",
    "drivers_results = drivers_results.select(\"raceId\", \"driverId\", \"Age\", \"nationality\", \"position\")\n",
    "display(drivers_results)"
   ]
  },
  {
   "cell_type": "code",
   "execution_count": 0,
   "metadata": {
    "application/vnd.databricks.v1+cell": {
     "cellMetadata": {},
     "inputWidgets": {},
     "nuid": "d0bcb466-3249-4612-9259-acb625a62c0e",
     "showTitle": false,
     "tableResultSettingsMap": {},
     "title": ""
    }
   },
   "outputs": [],
   "source": []
  }
 ],
 "metadata": {
  "application/vnd.databricks.v1+notebook": {
   "computePreferences": null,
   "dashboards": [],
   "environmentMetadata": {
    "base_environment": "",
    "environment_version": "2"
   },
   "inputWidgetPreferences": null,
   "language": "python",
   "notebookMetadata": {
    "pythonIndentUnit": 4
   },
   "notebookName": "takehome_3",
   "widgets": {}
  },
  "language_info": {
   "name": "python"
  }
 },
 "nbformat": 4,
 "nbformat_minor": 0
}
